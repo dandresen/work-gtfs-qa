{
 "cells": [
  {
   "cell_type": "code",
   "execution_count": 7,
   "metadata": {},
   "outputs": [],
   "source": [
    "from ipyleaflet import Map, GeoData, Marker,basemaps,FullScreenControl # LayersControl, \n",
    "import geopandas as gpd\n",
    "import pandas as pd\n",
    "import json"
   ]
  },
  {
   "cell_type": "code",
   "execution_count": 2,
   "metadata": {},
   "outputs": [],
   "source": [
    "'''Load and save functions.'''\n",
    "\n",
    "filepath = r'scripts/bbb-new'\n",
    "\n",
    "# load file\n",
    "def load(fName): \n",
    "    f = filepath + \"/\" + \"{}.txt\".format(fName)\n",
    "    return pd.read_csv(f)\n",
    "\n",
    "# save file\n",
    "def save(dfName,fName):\n",
    "    df = dfName\n",
    "    df.to_csv(filepath + '/' + \"{}_NEW.txt\".format(fName), sep =',', index=False, float_format=\"%.6f\")\n",
    "    return print(\"Saved {}_NEW.txt to {}\".format(fName,filepath))\n",
    "\n",
    "# load GTFS files\n",
    "trips = load('trips')\n",
    "stops = load('stops')\n",
    "stop_times = load('stop_times')\n",
    "shapes = load('shapes')\n",
    "routes = load('routes')"
   ]
  },
  {
   "cell_type": "code",
   "execution_count": 3,
   "metadata": {},
   "outputs": [],
   "source": [
    "'''have the input accept one route'''\n",
    "# singleRouteId = sys.argv[1]\n",
    "# singleRouteId = routes.route_id == 3025\n",
    "singleRoute = trips.route_id == 3025\n",
    "\n",
    "subShapeList = trips[singleRoute].shape_id.unique().tolist()\n",
    "subShapes = shapes[shapes.shape_id.isin(subShapeList)]\n",
    "\n",
    "subTripsList = trips[singleRoute].trip_id.unique().tolist()\n",
    "subTrips = trips[trips.trip_id.isin(subTripsList)]\n",
    "\n",
    "subStopTimesList = stop_times.stop_id[stop_times.trip_id.isin(subTripsList)].tolist()\n",
    "\n",
    "subStops = stops[stops.stop_id.isin(subStopTimesList)]"
   ]
  },
  {
   "cell_type": "code",
   "execution_count": 4,
   "metadata": {},
   "outputs": [],
   "source": [
    "allShapePoints = gpd.GeoDataFrame(subShapes, geometry=gpd.points_from_xy(subShapes.shape_pt_lon,subShapes.shape_pt_lat))\n",
    "allStopPoints = gpd.GeoDataFrame(subStops, geometry=gpd.points_from_xy(subStops.stop_lon,subStops.stop_lat))"
   ]
  },
  {
   "cell_type": "code",
   "execution_count": 10,
   "metadata": {},
   "outputs": [],
   "source": [
    "# stopLatLons = tuple(zip(allStopPoints.stop_lat,allStopPoints.stop_lon))"
   ]
  },
  {
   "cell_type": "code",
   "execution_count": 8,
   "metadata": {
    "scrolled": false
   },
   "outputs": [
    {
     "data": {
      "application/vnd.jupyter.widget-view+json": {
       "model_id": "f1f47ea15a5e4292abdb0baea876b19a",
       "version_major": 2,
       "version_minor": 0
      },
      "text/plain": [
       "Map(basemap={'url': 'https://{s}.tile.openstreetmap.org/{z}/{x}/{y}.png', 'max_zoom': 19, 'attribution': 'Map …"
      ]
     },
     "metadata": {},
     "output_type": "display_data"
    }
   ],
   "source": [
    "m = Map(center=(34.0195, -118.4912), zoom = 15, scroll_wheel_zoom = True)\n",
    "\n",
    "shapes_data = GeoData(geo_dataframe = allShapePoints)\n",
    "stops_data = GeoData(geo_dataframe = allStopPoints)\n",
    "\n",
    "m.add_layer(shapes_data)\n",
    "m.add_layer(stops_data)\n",
    "m.add_control(FullScreenControl())\n",
    "\n",
    "m"
   ]
  }
 ],
 "metadata": {
  "kernelspec": {
   "display_name": "Python 3",
   "language": "python",
   "name": "python3"
  },
  "language_info": {
   "codemirror_mode": {
    "name": "ipython",
    "version": 3
   },
   "file_extension": ".py",
   "mimetype": "text/x-python",
   "name": "python",
   "nbconvert_exporter": "python",
   "pygments_lexer": "ipython3",
   "version": "3.6.8"
  }
 },
 "nbformat": 4,
 "nbformat_minor": 2
}
