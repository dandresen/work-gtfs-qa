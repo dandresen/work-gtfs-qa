{
 "cells": [
  {
   "cell_type": "code",
   "execution_count": 2,
   "metadata": {},
   "outputs": [],
   "source": [
    "import pandas as pd\n",
    "import geopandas as gpd\n",
    "import numpy as np\n",
    "import matplotlib.pyplot as plt\n",
    "%matplotlib inline\n",
    "from scipy.spatial.distance import cdist\n",
    "pd.options.mode.chained_assignment = None\n"
   ]
  },
  {
   "cell_type": "code",
   "execution_count": 44,
   "metadata": {},
   "outputs": [],
   "source": [
    "'''Load and save functions.'''\n",
    "\n",
    "filepath = r'scripts/bbb-new'\n",
    "\n",
    "# load file\n",
    "def load(fName): \n",
    "    f = filepath + \"/\" + \"{}.txt\".format(fName)\n",
    "    return pd.read_csv(f)\n",
    "\n",
    "# save file\n",
    "def save(dfName,fName):\n",
    "    df = dfName\n",
    "    df.to_csv(filepath + '/' + \"{}_NEW.txt\".format(fName), sep =',', index=False, float_format=\"%.6f\")\n",
    "    return print(\"Saved {}_NEW.txt to {}\".format(fName,filepath))\n",
    "\n",
    "# load GTFS files\n",
    "trips = load('trips')\n",
    "stops = load('stops')\n",
    "stop_times = load('stop_times')\n",
    "shapes = load('shapes')\n",
    "routes = load('routes')\n",
    "# routes.info()"
   ]
  },
  {
   "cell_type": "code",
   "execution_count": 41,
   "metadata": {},
   "outputs": [
    {
     "name": "stdout",
     "output_type": "stream",
     "text": [
      "64\n"
     ]
    }
   ],
   "source": [
    "# singleRoute = trips.route_id == 3027\n",
    "subShapeList = trips.shape_id.unique().tolist()\n",
    "data = []\n",
    "for i in subShapeList:\n",
    "    subShapes = shapes[shapes.shape_id == i]\n",
    "    \n",
    "    subTripsList = trips[trips.shape_id == i].trip_id.unique().tolist()\n",
    "    subTrips = trips[trips.trip_id.isin(subTripsList)]\n",
    "\n",
    "    subStopTimesList = stop_times.stop_id[stop_times.trip_id.isin(subTripsList)].tolist()\n",
    "\n",
    "    subStops = stops[stops.stop_id.isin(subStopTimesList)]\n",
    "#     data.append(i, subTrips)\n",
    "print(len(subShapes))"
   ]
  },
  {
   "cell_type": "code",
   "execution_count": null,
   "metadata": {},
   "outputs": [],
   "source": []
  },
  {
   "cell_type": "code",
   "execution_count": null,
   "metadata": {},
   "outputs": [],
   "source": []
  },
  {
   "cell_type": "code",
   "execution_count": 57,
   "metadata": {},
   "outputs": [
    {
     "name": "stdout",
     "output_type": "stream",
     "text": [
      "Moved 23 shape points (11.98%)\n",
      "\n",
      "Saved shapes_NEW.txt to scripts/bbb-new\n"
     ]
    }
   ],
   "source": [
    "singleRoute = trips.route_id == 3027\n",
    "shapeList = trips.shape_id.unique().tolist()\n",
    "# data = []\n",
    "\n",
    "subShapes = shapes[shapes.shape_id == 24053]\n",
    "# subTripsList = trips[trips.shape_id == i].trip_id.unique().tolist()\n",
    "# subTripsList = trips[singleRoute].trip_id.unique().tolist()\n",
    "subTripsList = trips[trips.trip_id == 788851].trip_id.tolist()\n",
    "# subTrips = trips[trips.trip_id.isin(subTripsList)]\n",
    "subStopTimesList = stop_times.stop_id[stop_times.trip_id.isin(subTripsList)].tolist()\n",
    "subStops = stops[stops.stop_id.isin(subStopTimesList)]\n",
    "\n",
    "# turn stops & shapes coords to list, then numpy array\n",
    "# this will be used for the distance function\n",
    "stpLat = subStops.stop_lat.tolist()\n",
    "stpLon = subStops.stop_lon.tolist()\n",
    "stpCoord = np.array(list(zip(stpLat,stpLon)))\n",
    "\n",
    "shpLat = subShapes.shape_pt_lat.tolist()\n",
    "shpLon = subShapes.shape_pt_lon.tolist()\n",
    "shpCoord = np.array(list(zip(shpLat,shpLon)))\n",
    "\n",
    "# get distance of each shape point from nearest stop\n",
    "subShapes['dist_to_stp'] = cdist(shpCoord,stpCoord,'euclidean').min(axis=1) * 10000\n",
    "\n",
    "\n",
    "# find difference between dist_to_stp rows\n",
    "subShapes['diff'] = subShapes['dist_to_stp'] - subShapes['dist_to_stp'].shift(1)\n",
    "# create a dummy column marking where the diff is negative\n",
    "subShapes['dummy'] = np.where(subShapes['diff'] < 0,1,0)\n",
    "'''Keep where diff == NaN- this is first shape point and 'should' begin at a stop OR where distance to stop is < 2.8 OR where dummy == 1 AND the the value below it is == 0\n",
    "AND Keep where dummy == 1 AND distance to stop is < 5 (this may change). This logic will ensure the closest stop is grabbed based on criteria other than spatial criteria. \n",
    "The result is a column named \"keep\" with values of either keep or throw. These values are used later on with a buffer from the stop to highlight the rows to change'''\n",
    "subShapes['keep'] = np.where(np.logical_or(subShapes['diff'].isna(),\\\n",
    "                                                 np.logical_or(subShapes['dist_to_stp'] < 2.8,\\\n",
    "                                                                np.logical_and(np.logical_and(subShapes['dummy'] == 1, subShapes['dist_to_stp'] < 5.0),\\\n",
    "                                                                               np.logical_and(subShapes['dummy'] == 1, subShapes['dummy'].shift(-1) == 0)\\\n",
    "                                                                              )\\\n",
    "                                                              )\\\n",
    "                                                ) ,'keep','throw')\n",
    "\n",
    "\n",
    "'''With all of the other parameters above, have a column with a buffer of the stop and check to see if a shape point marked as \"keep\"\n",
    "falls within that buffer. If it does, update the shape point lat and lon for that row. There may be more than one shape point moved, inital testng \n",
    "has shown this not to be a problem. The generaliztion around the stops \"should\" not be noticeable. More testing should be done to 100% confirm'''\n",
    "\n",
    "# create a geodataframe to do an intersection \n",
    "intersect_df = gpd.GeoDataFrame(subShapes, geometry = gpd.points_from_xy(subShapes.shape_pt_lon,subShapes.shape_pt_lat))\n",
    "intersect_df['shape_pt_geometry'] = intersect_df['geometry']\n",
    "intersect_df.drop(['geometry'],axis=1)\n",
    "\n",
    "# stop dataframe with a buffer- distance can be adjusted if need be\n",
    "stopdf = gpd.GeoDataFrame(subStops, geometry=gpd.points_from_xy(subStops.stop_lon,subStops.stop_lat))\n",
    "stopdf['geometry'] = stopdf.geometry.buffer(.000205)\n",
    "\n",
    "# intersect df based on buffer polygon\n",
    "intersect_join = gpd.sjoin(intersect_df,stopdf,how='inner',op='intersects')\n",
    "# only keep the records 'keep'\n",
    "intersect_join = intersect_join[(intersect_join.keep == 'keep')]\n",
    "\n",
    "# create a column to identify the points that were joined\n",
    "intersect_join['joined'] = 'sure'\n",
    "\n",
    "# join the intersect df back to the nearest shape df based on index and create the new shapes.txt\n",
    "badMerge = pd.merge(subShapes,intersect_join,how='left',suffixes=('','_y'),left_index=True,right_index=True)\n",
    "# got a duplicated index somehow, drop it here\n",
    "finalMerge = badMerge[~badMerge.index.duplicated()]\n",
    "\n",
    "# update the new join shape lat lon with stop lat lon based on the 'keep' column\n",
    "# finalMerge.loc[finalMerge['keep'] == 'keep', 'shape_pt_lat'] = finalMerge['stop_lat']\n",
    "# finalMerge.loc[finalMerge['keep'] == 'keep', 'shape_pt_lon'] = finalMerge['stop_lon']\n",
    "\n",
    "# this only works if the alogrithum identified the point as keep, othewise it will just keep the point\n",
    "finalMerge.loc[(finalMerge['joined'] == 'sure') & (finalMerge['keep'] == 'keep'), 'shape_pt_lat'] = finalMerge['stop_lat']\n",
    "finalMerge.loc[(finalMerge['joined'] == 'sure' ) & (finalMerge['keep'] == 'keep'), 'shape_pt_lon'] = finalMerge['stop_lon']\n",
    "\n",
    "\n",
    "# round the lat lon \n",
    "finalMerge.round({'shape_pt_lat': 6, 'shape_pt_lon': 6})\n",
    "\n",
    "# # drop unwanted columns from the final merge df to create the shapes_NEW.txt\n",
    "# dropCols = [i for i in range(len(finalMerge.columns)) if i > 4]\n",
    "# finalMerge.drop(finalMerge.columns[dropCols],axis=1,inplace=True)\n",
    "# finalMerge.info()\n",
    "\n",
    "#  print the amount of points that were changed\n",
    "changedPoints = finalMerge.shape_pt_lon != subShapes.shape_pt_lon\n",
    "percentChanged =  round((len(finalMerge[changedPoints])/len(subShapes) * 100),2)\n",
    "\n",
    "print('Moved {} shape points ({}%)\\n'.format(len(finalMerge[changedPoints]),percentChanged))\n",
    "\n",
    "# data.append(finalMerge)\n",
    "\n",
    "\n",
    "# finalMerge = pd.concat(data)\n",
    "# finalMerge.info()\n",
    "save(finalMerge,'shapes')"
   ]
  },
  {
   "cell_type": "code",
   "execution_count": 33,
   "metadata": {},
   "outputs": [
    {
     "name": "stdout",
     "output_type": "stream",
     "text": [
      "<class 'pandas.core.frame.DataFrame'>\n",
      "Int64Index: 192 entries, 20273 to 20464\n",
      "Data columns (total 5 columns):\n",
      "shape_id               192 non-null int64\n",
      "shape_pt_lat           192 non-null float64\n",
      "shape_pt_lon           192 non-null float64\n",
      "shape_pt_sequence      192 non-null int64\n",
      "shape_dist_traveled    192 non-null float64\n",
      "dtypes: float64(3), int64(2)\n",
      "memory usage: 14.0 KB\n"
     ]
    }
   ],
   "source": [
    "finalMerge.info()"
   ]
  },
  {
   "cell_type": "code",
   "execution_count": 46,
   "metadata": {},
   "outputs": [
    {
     "data": {
      "image/png": "[encoded data removed]",
      "text/plain": [
       "<Figure size 1440x504 with 1 Axes>"
      ]
     },
     "metadata": {
      "needs_background": "light"
     },
     "output_type": "display_data"
    }
   ],
   "source": [
    "'''Test graph to look at the distances of the shape points in comparison to stops along the route'''\n",
    "# plot the distance from the stop... the 'valleys' are where the stops are\n",
    "\n",
    "plt.figure()\n",
    "plt.ylabel(\"Distance From Stop\").set_color(\"White\")\n",
    "subShapes['dist_to_stp'].plot(kind='bar',figsize=(20,7)).axes.get_xaxis().set_visible(False)\n",
    "plt.show()"
   ]
  },
  {
   "cell_type": "code",
   "execution_count": 46,
   "metadata": {},
   "outputs": [
    {
     "data": {
      "image/png": "[encoded data removed]",
      "text/plain": [
       "<Figure size 1080x1080 with 1 Axes>"
      ]
     },
     "metadata": {
      "needs_background": "light"
     },
     "output_type": "display_data"
    }
   ],
   "source": [
    "'''Test map (graph) to look at ALL of the shape points for a route in comparison to stops along the route'''\n",
    "# plot the stops (red) and the shape points the script returns (blue)\n",
    "# all of the shape points FOR TESTING\n",
    "\n",
    "wantedShapes = shapes[shapes.shape_id == 24053]\n",
    "allShapePoints = gpd.GeoDataFrame(wantedShapes, geometry=gpd.points_from_xy(wantedShapes.shape_pt_lon,wantedShapes.shape_pt_lat))\n",
    "allStopPoints = gpd.GeoDataFrame(subStops, geometry=gpd.points_from_xy(subStops.stop_lon,subStops.stop_lat))\n",
    "allStopPoints['geometry'] = stopdf.geometry.buffer(.00020)\n",
    "stopsTest = allStopPoints.plot(figsize=(15,15),color='red')\n",
    "# allShapePoints.plot(figsize=(15,15),color='blue')\n",
    "allShapePoints.plot(ax=stopsTest, color='blue',marker='o',markersize=20)\n",
    "plt.show()"
   ]
  },
  {
   "cell_type": "code",
   "execution_count": 105,
   "metadata": {},
   "outputs": [
    {
     "name": "stderr",
     "output_type": "stream",
     "text": [
      "/home/david/anaconda3/envs/work-gtfs-qa/lib/python3.6/site-packages/pandas/core/ops.py:1649: FutureWarning: elementwise comparison failed; returning scalar instead, but in the future will perform elementwise comparison\n",
      "  result = method(y)\n"
     ]
    },
    {
     "data": {
      "text/html": [
       "<div>\n",
       "<style scoped>\n",
       "    .dataframe tbody tr th:only-of-type {\n",
       "        vertical-align: middle;\n",
       "    }\n",
       "\n",
       "    .dataframe tbody tr th {\n",
       "        vertical-align: top;\n",
       "    }\n",
       "\n",
       "    .dataframe thead th {\n",
       "        text-align: right;\n",
       "    }\n",
       "</style>\n",
       "<table border=\"1\" class=\"dataframe\">\n",
       "  <thead>\n",
       "    <tr style=\"text-align: right;\">\n",
       "      <th></th>\n",
       "      <th>shape_id</th>\n",
       "      <th>shape_pt_lat</th>\n",
       "      <th>shape_pt_lon</th>\n",
       "      <th>shape_pt_sequence</th>\n",
       "      <th>shape_dist_traveled</th>\n",
       "      <th>dist_to_stp</th>\n",
       "      <th>diff</th>\n",
       "      <th>dummy</th>\n",
       "      <th>keep</th>\n",
       "      <th>geometry</th>\n",
       "      <th>...</th>\n",
       "      <th>stop_name</th>\n",
       "      <th>stop_desc</th>\n",
       "      <th>stop_lat</th>\n",
       "      <th>stop_lon</th>\n",
       "      <th>zone_id</th>\n",
       "      <th>stop_url</th>\n",
       "      <th>location_type</th>\n",
       "      <th>parent_station</th>\n",
       "      <th>stop_timezone</th>\n",
       "      <th>wheelchair_boarding</th>\n",
       "    </tr>\n",
       "  </thead>\n",
       "  <tbody>\n",
       "  </tbody>\n",
       "</table>\n",
       "<p>0 rows × 35 columns</p>\n",
       "</div>"
      ],
      "text/plain": [
       "Empty DataFrame\n",
       "Columns: [shape_id, shape_pt_lat, shape_pt_lon, shape_pt_sequence, shape_dist_traveled, dist_to_stp, diff, dummy, keep, geometry, shape_pt_geometry, shape_id_y, shape_pt_lat_y, shape_pt_lon_y, shape_pt_sequence_y, shape_dist_traveled_y, dist_to_stp_y, diff_y, dummy_y, keep_y, geometry_y, shape_pt_geometry_y, index_right, stop_id, stop_code, stop_name, stop_desc, stop_lat, stop_lon, zone_id, stop_url, location_type, parent_station, stop_timezone, wheelchair_boarding]\n",
       "Index: []\n",
       "\n",
       "[0 rows x 35 columns]"
      ]
     },
     "execution_count": 105,
     "metadata": {},
     "output_type": "execute_result"
    }
   ],
   "source": [
    "keepOnly = finalMerge[(finalMerge.keep == 'keep')]\n",
    "keepOnly[keepOnly.dummy == '0']"
   ]
  },
  {
   "cell_type": "code",
   "execution_count": 51,
   "metadata": {},
   "outputs": [
    {
     "data": {
      "image/png": "[encoded data removed]",
      "text/plain": [
       "<Figure size 1080x1080 with 1 Axes>"
      ]
     },
     "metadata": {
      "needs_background": "light"
     },
     "output_type": "display_data"
    }
   ],
   "source": [
    "'''Test map (graph) to look at a subset of the shape points identifed as being nearest to stops along the route'''\n",
    "keepOnly = finalMerge[(finalMerge.joined == 'sure')]\n",
    "# keepOnly = finalMerge[(finalMerge.keep == 'keep')]\n",
    "testPointsdf = gpd.GeoDataFrame(keepOnly, geometry=gpd.points_from_xy(keepOnly.shape_pt_lon,keepOnly.shape_pt_lat))\n",
    "stopdf = gpd.GeoDataFrame(stopdf, geometry=gpd.points_from_xy(stopdf.stop_lon,stopdf.stop_lat))\n",
    "stopdf['geometry'] = stopdf.geometry.buffer(.00020)\n",
    "\n",
    "\n",
    "# allShapePoints = gpd.GeoDataFrame(subShapes, geometry=gpd.points_from_xy(subShapes.shape_pt_lon,subShapes.shape_pt_lat))\n",
    "#plot shape points and stops... see an extra shape point near southern part of route\n",
    "stopsTest = stopdf.plot(figsize=(15,15),color='red')\n",
    "testPointsdf.plot(ax=stopsTest, color='blue',marker='o')\n",
    "# allShapePoints.plot(ax=stopsTest, color='blue',marker='o')\n",
    "\n",
    "plt.show()\n",
    "    "
   ]
  }
 ],
 "metadata": {
  "kernelspec": {
   "display_name": "Python 2",
   "language": "python",
   "name": "python2"
  },
  "language_info": {
   "codemirror_mode": {
    "name": "ipython",
    "version": 3
   },
   "file_extension": ".py",
   "mimetype": "text/x-python",
   "name": "python",
   "nbconvert_exporter": "python",
   "pygments_lexer": "ipython3",
   "version": "3.6.8"
  }
 },
 "nbformat": 4,
 "nbformat_minor": 2
}
