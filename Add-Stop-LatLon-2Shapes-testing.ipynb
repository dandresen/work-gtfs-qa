{
 "cells": [
  {
   "cell_type": "code",
   "execution_count": 1,
   "metadata": {},
   "outputs": [],
   "source": [
    "import pandas as pd\n",
    "import geopandas as gpd\n",
    "import numpy as np\n",
    "import matplotlib.pyplot as plt\n",
    "%matplotlib inline\n",
    "from math import radians, cos, sin, asin, sqrt\n",
    "pd.options.mode.chained_assignment = None\n"
   ]
  },
  {
   "cell_type": "code",
   "execution_count": 171,
   "metadata": {},
   "outputs": [],
   "source": [
    "'''Load and save functions.'''\n",
    "\n",
    "filepath = r'scripts/stalbert'\n",
    "\n",
    "# load file\n",
    "def load(fName): \n",
    "    f = filepath + \"/\" + \"{}.txt\".format(fName)\n",
    "    return pd.read_csv(f)\n",
    "\n",
    "# save file\n",
    "def save(dfName,fName):\n",
    "    df = dfName\n",
    "    df.to_csv(filepath + '/' + \"{}_NEW.txt\".format(fName), sep =',', index=False, float_format=\"%.6f\")\n",
    "    return print(\"Saved {}_NEW.txt to {}\".format(fName,filepath))\n",
    "\n",
    "# haversine\n",
    "def haversine(row):\n",
    "\n",
    "    R = 3959.87433 # miles\n",
    "\n",
    "    dLat = radians(row['stop_lat'] - row['shape_pt_lat'])\n",
    "    dLon = radians(row['stop_lon'] - row['shape_pt_lon'])\n",
    "    lat1 = radians(row['shape_pt_lat'])\n",
    "    lat2 = radians(row['stop_lat'])\n",
    "\n",
    "    a = sin(dLat/2)**2 + cos(lat1)*cos(lat2)*sin(dLon/2)**2\n",
    "    c = 2*asin(sqrt(a))\n",
    "\n",
    "    return R * c\n",
    "\n",
    "# load GTFS files\n",
    "trips = load('trips')\n",
    "stops = load('stops')\n",
    "stop_times = load('stop_times')\n",
    "shapes = load('shapes')\n",
    "routes = load('routes')\n",
    "# routes.info()"
   ]
  },
  {
   "cell_type": "code",
   "execution_count": null,
   "metadata": {},
   "outputs": [],
   "source": []
  },
  {
   "cell_type": "code",
   "execution_count": null,
   "metadata": {},
   "outputs": [],
   "source": [
    "trips = load('trips')\n",
    "stops = load('stops')\n",
    "stop_times = load('stop_times')\n",
    "shapes = load('shapes')\n",
    "routes = load('routes')\n",
    "\n",
    "rte=3015\n",
    "shp=24007\n",
    "trp=787279\n",
    "\n",
    "# def shapes2stops (rte,shp,trp):\n",
    "singleRoute = trips.route_id == rte #3032\n",
    "shapeList = trips.shape_id.unique().tolist()\n",
    "# data = []\n",
    "\n",
    "subShapes = shapes[shapes.shape_id == shp]\n",
    "# subTripsList = trips[trips.shape_id == i].trip_id.unique().tolist()\n",
    "# subTripsList = trips[singleRoute].trip_id.unique().tolist()\n",
    "subTripsList = trips[trips.trip_id == trp].trip_id.tolist()\n",
    "# subTrips = trips[trips.trip_id.isin(subTripsList)]\n",
    "subStopTimesList = stop_times.stop_id[stop_times.trip_id.isin(subTripsList)].tolist()\n",
    "subStops = stops[stops.stop_id.isin(subStopTimesList)]\n",
    "\n",
    "\n",
    "# create a geodataframe to do an intersection \n",
    "intersect_df = gpd.GeoDataFrame(subShapes, geometry = gpd.points_from_xy(subShapes.shape_pt_lon,subShapes.shape_pt_lat))\n",
    "intersect_df['shape_pt_geometry'] = intersect_df['geometry']\n",
    "intersect_df.drop(['geometry'],axis=1)\n",
    "\n",
    "# stop dataframe with a buffer- distance can be adjusted if need be\n",
    "stopdf = gpd.GeoDataFrame(subStops, geometry=gpd.points_from_xy(subStops.stop_lon,subStops.stop_lat))\n",
    "stopdf['geometry_point'] = stopdf.geometry\n",
    "stopdf['geometry'] = stopdf.geometry.buffer(0.0005)\n",
    "\n",
    "# intersect df based on buffer polygon\n",
    "spatial_join = gpd.sjoin(intersect_df,stopdf,how='inner',op='intersects')\n",
    "# only keep the records 'keep'\n",
    "# spatial_join = spatial_join[(spatial_join.keep == 'keep')]\n",
    "\n",
    "# create a column to identify the points that were joined\n",
    "spatial_join['joined'] = 'true'\n",
    "\n",
    "# haversine\n",
    "spatial_join['hav_dist'] = spatial_join.apply(haversine,axis=1)\n",
    "\n",
    "# make sure first and last are included\n",
    "firstPoint = subShapes.shape_pt_sequence.tolist()[0]\n",
    "lastPoint = subShapes.shape_pt_sequence.tolist()[-1]\n",
    "\n",
    "keepingFirst = spatial_join.shape_pt_sequence == firstPoint\n",
    "putMeBackAfterDropDupsFirst = spatial_join[keepingFirst]\n",
    "\n",
    "keepingLast = spatial_join.shape_pt_sequence == lastPoint\n",
    "putMeBackAfterDropDupsLast = spatial_join[keepingLast]\n",
    "\n",
    "# sort and drop\n",
    "spatial_join.sort_values(by=['stop_id','hav_dist'],inplace=True)\n",
    "spatial_join.drop_duplicates(subset=['stop_id'], keep='first',inplace=True)\n",
    "\n",
    "spatial_join = spatial_join.append(putMeBackAfterDropDupsFirst)\n",
    "spatial_join = spatial_join.append(putMeBackAfterDropDupsLast)\n",
    "\n",
    "# join the intersect df back to the nearest shape df based on index and create the new shapes.txt\n",
    "badMerge = pd.merge(subShapes,spatial_join,how='left',suffixes=('','_y'),left_index=True,right_index=True)\n",
    "# got a duplicated index somehow, drop it here\n",
    "finalMerge = badMerge[~badMerge.index.duplicated()]\n",
    "\n",
    "# update the new join shape lat lon with stop lat lon based on the 'keep' column\n",
    "# finalMerge.loc[finalMerge['keep'] == 'keep', 'shape_pt_lat'] = finalMerge['stop_lat']\n",
    "# finalMerge.loc[finalMerge['keep'] == 'keep', 'shape_pt_lon'] = finalMerge['stop_lon']\n",
    "\n",
    "# this only works if the alogrithum identified the point as keep, othewise it will just keep the point\n",
    "\n",
    "finalMerge.loc[(finalMerge['joined'] == 'true'), 'shape_pt_lat'] = finalMerge['stop_lat']\n",
    "finalMerge.loc[(finalMerge['joined'] == 'true'), 'shape_pt_lon'] = finalMerge['stop_lon']\n",
    "\n",
    "\n",
    "# round the lat lon \n",
    "finalMerge.round({'shape_pt_lat': 6, 'shape_pt_lon': 6})\n",
    "\n",
    "# # drop unwanted columns from the final merge df to create the shapes_NEW.txt\n",
    "dropCols = [i for i in range(len(finalMerge.columns)) if i > 4]\n",
    "finalMerge.drop(finalMerge.columns[dropCols],axis=1,inplace=True)\n",
    "\n",
    "#  print the amount of points that were changed\n",
    "changedPoints = finalMerge.shape_pt_lon != subShapes.shape_pt_lon\n",
    "percentChanged =  round((len(finalMerge[changedPoints])/len(subShapes) * 100),2)\n",
    "\n",
    "print('Moved {} shape points ({}%)\\n'.format(len(finalMerge[changedPoints]),percentChanged))\n",
    "\n",
    "# data.append(finalMerge)\n",
    "\n",
    "# return finalMerge\n",
    "# finalMerge = pd.concat(data)\n",
    "# finalMerge.info()\n",
    "# save(finalMerge,'shapes')"
   ]
  },
  {
   "cell_type": "code",
   "execution_count": 165,
   "metadata": {},
   "outputs": [
    {
     "name": "stdout",
     "output_type": "stream",
     "text": [
      "<class 'pandas.core.frame.DataFrame'>\n",
      "RangeIndex: 128204 entries, 0 to 128203\n",
      "Data columns (total 10 columns):\n",
      "trip_id                128204 non-null int64\n",
      "arrival_time           128204 non-null object\n",
      "departure_time         128204 non-null object\n",
      "stop_id                128204 non-null int64\n",
      "stop_sequence          128204 non-null int64\n",
      "stop_headsign          0 non-null float64\n",
      "pickup_type            128204 non-null int64\n",
      "drop_off_type          128204 non-null int64\n",
      "shape_dist_traveled    124782 non-null float64\n",
      "timepoint              128204 non-null int64\n",
      "dtypes: float64(2), int64(6), object(2)\n",
      "memory usage: 9.8+ MB\n"
     ]
    }
   ],
   "source": [
    "# spatial_join.sort_values(by=['shape_pt_sequence']).tail()\n"
   ]
  },
  {
   "cell_type": "code",
   "execution_count": 14,
   "metadata": {},
   "outputs": [
    {
     "data": {
      "image/png": "[encoded data removed]",
      "text/plain": [
       "<Figure size 1440x504 with 1 Axes>"
      ]
     },
     "metadata": {
      "needs_background": "light"
     },
     "output_type": "display_data"
    }
   ],
   "source": [
    "'''Test graph to look at the distances of the shape points in comparison to stops along the route'''\n",
    "# plot the distance from the stop... the 'valleys' are where the stops are\n",
    "\n",
    "plt.figure()\n",
    "plt.ylabel(\"Distance From Stop\").set_color(\"White\")\n",
    "subShapes['dist_to_stp'].plot(kind='bar',figsize=(20,7)).axes.get_xaxis().set_visible(False)\n",
    "plt.show()"
   ]
  },
  {
   "cell_type": "code",
   "execution_count": 169,
   "metadata": {},
   "outputs": [
    {
     "data": {
      "image/png": "[encoded data removed]",
      "text/plain": [
       "<Figure size 1080x1080 with 1 Axes>"
      ]
     },
     "metadata": {
      "needs_background": "light"
     },
     "output_type": "display_data"
    }
   ],
   "source": [
    "'''Test map (graph) to look at ALL of the shape points for a route in comparison to stops along the route'''\n",
    "# plot the stops (red) and the shape points the script returns (blue)\n",
    "# all of the shape points FOR TESTING\n",
    "\n",
    "# wantedShapes = shapes[shapes.shape_id == 24242]\n",
    "allShapePoints = gpd.GeoDataFrame(finalMerge, geometry=gpd.points_from_xy(finalMerge.shape_pt_lon,finalMerge.shape_pt_lat))\n",
    "allStopPoints = gpd.GeoDataFrame(subStops, geometry=gpd.points_from_xy(subStops.stop_lon,subStops.stop_lat))\n",
    "allStopPoints['geometry'] = stopdf.geometry.buffer(.001)\n",
    "stopsTest = allStopPoints.plot(figsize=(15,15),color='red')\n",
    "# allShapePoints.plot(figsize=(15,15),color='blue')\n",
    "allShapePoints.plot(ax=stopsTest, color='blue',marker='o',markersize=20)\n",
    "plt.show()"
   ]
  },
  {
   "cell_type": "code",
   "execution_count": 175,
   "metadata": {},
   "outputs": [
    {
     "ename": "AttributeError",
     "evalue": "'DataFrame' object has no attribute 'joined'",
     "output_type": "error",
     "traceback": [
      "\u001b[0;31m---------------------------------------------------------------------------\u001b[0m",
      "\u001b[0;31mAttributeError\u001b[0m                            Traceback (most recent call last)",
      "\u001b[0;32m<ipython-input-175-50f88354d04b>\u001b[0m in \u001b[0;36m<module>\u001b[0;34m\u001b[0m\n\u001b[1;32m      1\u001b[0m \u001b[0;34m'''Test map (graph) to look at a subset of the shape points identifed as being nearest to stops along the route'''\u001b[0m\u001b[0;34m\u001b[0m\u001b[0;34m\u001b[0m\u001b[0m\n\u001b[0;32m----> 2\u001b[0;31m \u001b[0mkeepOnly\u001b[0m \u001b[0;34m=\u001b[0m \u001b[0mfinalMerge\u001b[0m\u001b[0;34m[\u001b[0m\u001b[0;34m(\u001b[0m\u001b[0mfinalMerge\u001b[0m\u001b[0;34m.\u001b[0m\u001b[0mjoined\u001b[0m \u001b[0;34m==\u001b[0m \u001b[0;34m'true'\u001b[0m\u001b[0;34m)\u001b[0m\u001b[0;34m]\u001b[0m\u001b[0;34m\u001b[0m\u001b[0;34m\u001b[0m\u001b[0m\n\u001b[0m\u001b[1;32m      3\u001b[0m \u001b[0;31m# keepOnly = finalMerge[(finalMerge.keep == 'keep')]\u001b[0m\u001b[0;34m\u001b[0m\u001b[0;34m\u001b[0m\u001b[0;34m\u001b[0m\u001b[0m\n\u001b[1;32m      4\u001b[0m \u001b[0mtestPointsdf\u001b[0m \u001b[0;34m=\u001b[0m \u001b[0mgpd\u001b[0m\u001b[0;34m.\u001b[0m\u001b[0mGeoDataFrame\u001b[0m\u001b[0;34m(\u001b[0m\u001b[0mkeepOnly\u001b[0m\u001b[0;34m,\u001b[0m \u001b[0mgeometry\u001b[0m\u001b[0;34m=\u001b[0m\u001b[0mgpd\u001b[0m\u001b[0;34m.\u001b[0m\u001b[0mpoints_from_xy\u001b[0m\u001b[0;34m(\u001b[0m\u001b[0mkeepOnly\u001b[0m\u001b[0;34m.\u001b[0m\u001b[0mshape_pt_lon\u001b[0m\u001b[0;34m,\u001b[0m\u001b[0mkeepOnly\u001b[0m\u001b[0;34m.\u001b[0m\u001b[0mshape_pt_lat\u001b[0m\u001b[0;34m)\u001b[0m\u001b[0;34m)\u001b[0m\u001b[0;34m\u001b[0m\u001b[0;34m\u001b[0m\u001b[0m\n\u001b[1;32m      5\u001b[0m \u001b[0mstopdf\u001b[0m \u001b[0;34m=\u001b[0m \u001b[0mgpd\u001b[0m\u001b[0;34m.\u001b[0m\u001b[0mGeoDataFrame\u001b[0m\u001b[0;34m(\u001b[0m\u001b[0mstopdf\u001b[0m\u001b[0;34m,\u001b[0m \u001b[0mgeometry\u001b[0m\u001b[0;34m=\u001b[0m\u001b[0mgpd\u001b[0m\u001b[0;34m.\u001b[0m\u001b[0mpoints_from_xy\u001b[0m\u001b[0;34m(\u001b[0m\u001b[0mstopdf\u001b[0m\u001b[0;34m.\u001b[0m\u001b[0mstop_lon\u001b[0m\u001b[0;34m,\u001b[0m\u001b[0mstopdf\u001b[0m\u001b[0;34m.\u001b[0m\u001b[0mstop_lat\u001b[0m\u001b[0;34m)\u001b[0m\u001b[0;34m)\u001b[0m\u001b[0;34m\u001b[0m\u001b[0;34m\u001b[0m\u001b[0m\n",
      "\u001b[0;32m~/anaconda3/envs/work-gtfs-qa/lib/python3.6/site-packages/pandas/core/generic.py\u001b[0m in \u001b[0;36m__getattr__\u001b[0;34m(self, name)\u001b[0m\n\u001b[1;32m   5065\u001b[0m             \u001b[0;32mif\u001b[0m \u001b[0mself\u001b[0m\u001b[0;34m.\u001b[0m\u001b[0m_info_axis\u001b[0m\u001b[0;34m.\u001b[0m\u001b[0m_can_hold_identifiers_and_holds_name\u001b[0m\u001b[0;34m(\u001b[0m\u001b[0mname\u001b[0m\u001b[0;34m)\u001b[0m\u001b[0;34m:\u001b[0m\u001b[0;34m\u001b[0m\u001b[0;34m\u001b[0m\u001b[0m\n\u001b[1;32m   5066\u001b[0m                 \u001b[0;32mreturn\u001b[0m \u001b[0mself\u001b[0m\u001b[0;34m[\u001b[0m\u001b[0mname\u001b[0m\u001b[0;34m]\u001b[0m\u001b[0;34m\u001b[0m\u001b[0;34m\u001b[0m\u001b[0m\n\u001b[0;32m-> 5067\u001b[0;31m             \u001b[0;32mreturn\u001b[0m \u001b[0mobject\u001b[0m\u001b[0;34m.\u001b[0m\u001b[0m__getattribute__\u001b[0m\u001b[0;34m(\u001b[0m\u001b[0mself\u001b[0m\u001b[0;34m,\u001b[0m \u001b[0mname\u001b[0m\u001b[0;34m)\u001b[0m\u001b[0;34m\u001b[0m\u001b[0;34m\u001b[0m\u001b[0m\n\u001b[0m\u001b[1;32m   5068\u001b[0m \u001b[0;34m\u001b[0m\u001b[0m\n\u001b[1;32m   5069\u001b[0m     \u001b[0;32mdef\u001b[0m \u001b[0m__setattr__\u001b[0m\u001b[0;34m(\u001b[0m\u001b[0mself\u001b[0m\u001b[0;34m,\u001b[0m \u001b[0mname\u001b[0m\u001b[0;34m,\u001b[0m \u001b[0mvalue\u001b[0m\u001b[0;34m)\u001b[0m\u001b[0;34m:\u001b[0m\u001b[0;34m\u001b[0m\u001b[0;34m\u001b[0m\u001b[0m\n",
      "\u001b[0;31mAttributeError\u001b[0m: 'DataFrame' object has no attribute 'joined'"
     ]
    }
   ],
   "source": [
    "'''Test map (graph) to look at a subset of the shape points identifed as being nearest to stops along the route'''\n",
    "keepOnly = finalMerge[(finalMerge.joined == 'true')]\n",
    "# keepOnly = finalMerge[(finalMerge.keep == 'keep')]\n",
    "testPointsdf = gpd.GeoDataFrame(keepOnly, geometry=gpd.points_from_xy(keepOnly.shape_pt_lon,keepOnly.shape_pt_lat))\n",
    "stopdf = gpd.GeoDataFrame(stopdf, geometry=gpd.points_from_xy(stopdf.stop_lon,stopdf.stop_lat))\n",
    "stopdf['geometry'] = stopdf.geometry.buffer(.00030)\n",
    "\n",
    "\n",
    "# allShapePoints = gpd.GeoDataFrame(subShapes, geometry=gpd.points_from_xy(subShapes.shape_pt_lon,subShapes.shape_pt_lat))\n",
    "#plot shape points and stops... see an extra shape point near southern part of route\n",
    "stopsTest = stopdf.plot(figsize=(15,15),color='red')\n",
    "testPointsdf.plot(ax=stopsTest, color='blue',marker='o')\n",
    "# allShapePoints.plot(ax=stopsTest, color='blue',marker='o')\n",
    "\n",
    "plt.show()\n",
    "    "
   ]
  }
 ],
 "metadata": {
  "kernelspec": {
   "display_name": "Python 2",
   "language": "python",
   "name": "python2"
  },
  "language_info": {
   "codemirror_mode": {
    "name": "ipython",
    "version": 3
   },
   "file_extension": ".py",
   "mimetype": "text/x-python",
   "name": "python",
   "nbconvert_exporter": "python",
   "pygments_lexer": "ipython3",
   "version": "3.6.8"
  }
 },
 "nbformat": 4,
 "nbformat_minor": 2
}
