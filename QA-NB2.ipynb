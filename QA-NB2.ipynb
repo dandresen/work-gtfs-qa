{
 "cells": [
  {
   "cell_type": "markdown",
   "metadata": {},
   "source": [
    "### <span style=\"color:red\">Here are some functions to analyze data from NB2.</span>\n",
    "##### <span style=\"color:dark-blue\">Import the needed packages</span>\n"
   ]
  },
  {
   "cell_type": "code",
   "execution_count": 2,
   "metadata": {},
   "outputs": [],
   "source": [
    "import pandas as pd\n",
    "import numpy as np\n",
    "#import pixiedust as pix # will look into the capabilites of this library"
   ]
  },
  {
   "cell_type": "code",
   "execution_count": 1,
   "metadata": {},
   "outputs": [],
   "source": [
    "filepath = r\"~/Desktop/nb2-api-scripts/scripts/output\"\n",
    "\n",
    "#filepath2 = r\"\\\\cts-con-fld-001\\users$\\207329\\My Documents\\qa\\sf-muni\\sf-muni_export_20180907\"\n",
    "\n",
    "'''Some functions to make life eaiser'''\n",
    "\n",
    "# load file and show top 5 records\n",
    "def load(fName): \n",
    "    f = filepath + \"/\" + \"{}.csv\".format(fName)\n",
    "    global df\n",
    "    df = pd.read_csv(f)\n",
    "    return df.info()\n",
    "\n",
    "import csv\n",
    "# short save file\n",
    "def save(dfName,fName):\n",
    "    df = dfName\n",
    "    df.to_csv(filepath + '/' + \"{}\".format(fName), sep =',', index=False)#, quoting=csv.QUOTE_NONNUMERIC)\n",
    "    return print(\"Saved {} to {}\".format(fName,filepath))\n",
    "\n",
    "# function to move copy stop_code to stop_id in the stops.txt file\n",
    "def copyField(newField,origField,fileName):\n",
    "    df[newField] = df[origField]\n",
    "    df.to_csv(filepath + '//' + '{}_FIXED.txt'.format(fileName), sep =',', index=False)\n",
    "    return print(\"Copied the '{}' field to the '{}' field.\\n\\\n",
    "Saved '{}_FIXED.txt' to file folder.\".format(origField,newField,fileName))\n",
    "\n",
    "# syntax for leading zeros (4 for example)\n",
    "#df['stop_id']= df['stop_id'].apply(lambda x: '{0:0>4}'.format(x))\n",
    "\n",
    "\n",
    "\n"
   ]
  },
  {
   "cell_type": "markdown",
   "metadata": {},
   "source": [
    "### <span style=\"color:red\">Check for any duplicate trips/stops and/or trips/stops that missed the arrivals/departures</span> "
   ]
  },
  {
   "cell_type": "code",
   "execution_count": 1,
   "metadata": {},
   "outputs": [
    {
     "ename": "NameError",
     "evalue": "name 'df' is not defined",
     "output_type": "error",
     "traceback": [
      "\u001b[0;31m---------------------------------------------------------------------------\u001b[0m",
      "\u001b[0;31mNameError\u001b[0m                                 Traceback (most recent call last)",
      "\u001b[0;32m<ipython-input-1-cc1cc523710c>\u001b[0m in \u001b[0;36m<module>\u001b[0;34m\u001b[0m\n\u001b[1;32m     28\u001b[0m         \u001b[0mprint\u001b[0m\u001b[0;34m(\u001b[0m\u001b[0;34m\"\\nSomething went wrong make sure you are putting in the dataframe name followed by 'a' OR 'd'\"\u001b[0m\u001b[0;34m)\u001b[0m\u001b[0;34m\u001b[0m\u001b[0;34m\u001b[0m\u001b[0m\n\u001b[1;32m     29\u001b[0m \u001b[0;34m\u001b[0m\u001b[0m\n\u001b[0;32m---> 30\u001b[0;31m \u001b[0mbadtrip\u001b[0m\u001b[0;34m(\u001b[0m\u001b[0mdf\u001b[0m\u001b[0;34m,\u001b[0m\u001b[0;34m'a'\u001b[0m\u001b[0;34m)\u001b[0m\u001b[0;34m\u001b[0m\u001b[0;34m\u001b[0m\u001b[0m\n\u001b[0m\u001b[1;32m     31\u001b[0m \u001b[0;34m\u001b[0m\u001b[0m\n\u001b[1;32m     32\u001b[0m \u001b[0;34m\u001b[0m\u001b[0m\n",
      "\u001b[0;31mNameError\u001b[0m: name 'df' is not defined"
     ]
    }
   ],
   "source": [
    "# load('RteArchive-jtafla-Rte27-04-04-00:00to23:59')\n",
    "# load('RteArchive-jtafla-Rte28-04-05-00:01to23:59')\n",
    "\n",
    "## Lets write a function that will quickly point out trips that have a lot of missing times\n",
    "\n",
    "# Pass in the dataframe and the either 'a' for arrivals or 'd' for departures\n",
    "def badtrip(df,typeOfMiss):\n",
    "    global dfTrips\n",
    "    if typeOfMiss == 'a':\n",
    "        typeOfMiss = 'actual_arrival'\n",
    "        df['miss'] = np.where(df['{}'.format(typeOfMiss)] != 'MISSING-TIME',1,0)\n",
    "        trips = df.groupby(['trip_id','vehicle'])['miss'].agg([np.sum,np.size])\n",
    "        trips['percentageArrival'] = trips['sum'] / trips['size'] *100\n",
    "        dfTrips = trips.reset_index(level=['trip_id','vehicle'])\n",
    "        dfTrips = dfTrips.rename(columns={'sum': 'timesNotMissing', 'size': 'totalTime'})\n",
    "        return dfTrips\n",
    "\n",
    "    elif typeOfMiss == 'd':\n",
    "        typeOfMiss = 'actual_departure'\n",
    "        df['miss'] = np.where(df['{}'.format(typeOfMiss)] != 'MISSING-TIME',1,0)\n",
    "        trips = df.groupby(['trip_id','vehicle'])['miss'].agg([np.sum,np.size])\n",
    "        trips['percentageDeparture'] = trips['sum'] / trips['size'] *100\n",
    "        dfTrips = trips.reset_index(level=['trip_id','vehicle'])\n",
    "        dfTrips = dfTrips.rename(columns={'sum': 'timesNotMissing', 'size': 'totalTime'})\n",
    "        return dfTrips\n",
    "\n",
    "    else:\n",
    "        print(\"\\nSomething went wrong make sure you are putting in the dataframe name followed by 'a' OR 'd'\")\n",
    "\n",
    "badtrip(df,'a')\n",
    "\n",
    "\n",
    "\n",
    "#\n",
    "\n",
    "# save(foo, 'test.csv')"
   ]
  },
  {
   "cell_type": "markdown",
   "metadata": {},
   "source": [
    "## Bad Time Playground"
   ]
  },
  {
   "cell_type": "code",
   "execution_count": 70,
   "metadata": {},
   "outputs": [
    {
     "data": {
      "text/html": [
       "<div>\n",
       "<style scoped>\n",
       "    .dataframe tbody tr th:only-of-type {\n",
       "        vertical-align: middle;\n",
       "    }\n",
       "\n",
       "    .dataframe tbody tr th {\n",
       "        vertical-align: top;\n",
       "    }\n",
       "\n",
       "    .dataframe thead th {\n",
       "        text-align: right;\n",
       "    }\n",
       "</style>\n",
       "<table border=\"1\" class=\"dataframe\">\n",
       "  <thead>\n",
       "    <tr style=\"text-align: right;\">\n",
       "      <th></th>\n",
       "      <th>trip_id</th>\n",
       "      <th>vehicle</th>\n",
       "      <th>timesNotMissing</th>\n",
       "      <th>totalTime</th>\n",
       "      <th>percentageArrival</th>\n",
       "    </tr>\n",
       "  </thead>\n",
       "  <tbody>\n",
       "    <tr>\n",
       "      <th>20</th>\n",
       "      <td>3701167</td>\n",
       "      <td>2208</td>\n",
       "      <td>940</td>\n",
       "      <td>1290</td>\n",
       "      <td>72.868217</td>\n",
       "    </tr>\n",
       "    <tr>\n",
       "      <th>28</th>\n",
       "      <td>3701175</td>\n",
       "      <td>1903</td>\n",
       "      <td>685</td>\n",
       "      <td>1276</td>\n",
       "      <td>53.683386</td>\n",
       "    </tr>\n",
       "  </tbody>\n",
       "</table>\n",
       "</div>"
      ],
      "text/plain": [
       "    trip_id  vehicle  timesNotMissing  totalTime  percentageArrival\n",
       "20  3701167     2208              940       1290          72.868217\n",
       "28  3701175     1903              685       1276          53.683386"
      ]
     },
     "execution_count": 70,
     "metadata": {},
     "output_type": "execute_result"
    }
   ],
   "source": [
    "dfTrips\n",
    "#  df1 = df[(df.trip_id==3626052)]\n",
    "# df1\n",
    "\n",
    "dfTrips[(dfTrips.percentageArrival < 80)]\n",
    "# dfTrips[(dfTrips.percentageArrival < 60)]\n",
    "# \n",
    "# def badtime(df,typeOfTime):\n",
    "#     if typeOfTime == 'a':\n",
    "#         df1 = df[(df.actual_arrival) != 'MISSING-TIME']\n",
    "#         df1 = df1[(df1.predicted_arrival) != 'MISSING-TIME']\n",
    "#         df1['actual_arrival'] = pd.to_datetime(df1['actual_arrival'])\n",
    "#         df1['predArrival'] = pd.to_datetime(df1['predicted_arrival'])\n",
    "#         print (pd.Timedelta(df1[(df1'predArrival')]-df1['actualArrival']).seconds / 60.0)\n",
    "#     else:\n",
    "#         print('bad')\n",
    "# badtime(df,'a')"
   ]
  },
  {
   "cell_type": "markdown",
   "metadata": {},
   "source": [
    "### Further Investigation "
   ]
  },
  {
   "cell_type": "code",
   "execution_count": 2,
   "metadata": {},
   "outputs": [
    {
     "ename": "NameError",
     "evalue": "name 'load' is not defined",
     "output_type": "error",
     "traceback": [
      "\u001b[0;31m---------------------------------------------------------------------------\u001b[0m",
      "\u001b[0;31mNameError\u001b[0m                                 Traceback (most recent call last)",
      "\u001b[0;32m<ipython-input-2-58540af38585>\u001b[0m in \u001b[0;36m<module>\u001b[0;34m\u001b[0m\n\u001b[0;32m----> 1\u001b[0;31m \u001b[0mload\u001b[0m\u001b[0;34m(\u001b[0m\u001b[0;34m'RteArchive-jtafla-Rte28-04-05-00:01to23:59'\u001b[0m\u001b[0;34m)\u001b[0m\u001b[0;34m\u001b[0m\u001b[0;34m\u001b[0m\u001b[0m\n\u001b[0m\u001b[1;32m      2\u001b[0m \u001b[0;34m\u001b[0m\u001b[0m\n\u001b[1;32m      3\u001b[0m \u001b[0;31m# df.head(50)\u001b[0m\u001b[0;34m\u001b[0m\u001b[0;34m\u001b[0m\u001b[0;34m\u001b[0m\u001b[0m\n\u001b[1;32m      4\u001b[0m \u001b[0;34m\u001b[0m\u001b[0m\n\u001b[1;32m      5\u001b[0m \u001b[0;31m# uniqueStuff = list(missing['trip_id'].unique())\u001b[0m\u001b[0;34m\u001b[0m\u001b[0;34m\u001b[0m\u001b[0;34m\u001b[0m\u001b[0m\n",
      "\u001b[0;31mNameError\u001b[0m: name 'load' is not defined"
     ]
    }
   ],
   "source": [
    "load('RteArchive-jtafla-Rte28-04-05-00:01to23:59')\n",
    "\n",
    "# df.head(50)\n",
    "\n",
    "# uniqueStuff = list(missing['trip_id'].unique())\n",
    "# print(uniqueStuff)\n",
    "\n",
    "\n",
    "# missing = df[(df.actual_arrival=='MISSING-TIME')]\n",
    "# missing['trip_id'].unique()\n",
    "\n",
    "\n",
    "# trip = df[(df.trip_id==3700971)]\n",
    "# trip = df[(df.trip_id==3701175) & (df.actual_arrival == 'MISSING-TIME') & (df.stop == '5216')]\n",
    "# trip\n",
    "# grouped = trip.groupby('stop')\n",
    "# grouped.count()\n",
    "# missing['trip_id'].unique()\n",
    "# missing[(missing.vehicle == 1401)]\n",
    "\n",
    "\n",
    "# dateQuery = df[(df.timestamp >= '2019-03-14 15:15')]\n",
    "# date = dateQuery[(dateQuery.vehicle == 1324)]\n",
    "# date\n",
    "\n",
    "# trip\n",
    "\n"
   ]
  },
  {
   "cell_type": "code",
   "execution_count": 3,
   "metadata": {},
   "outputs": [
    {
     "ename": "NameError",
     "evalue": "name 'df' is not defined",
     "output_type": "error",
     "traceback": [
      "\u001b[0;31m---------------------------------------------------------------------------\u001b[0m",
      "\u001b[0;31mNameError\u001b[0m                                 Traceback (most recent call last)",
      "\u001b[0;32m<ipython-input-3-d22fd410cc87>\u001b[0m in \u001b[0;36m<module>\u001b[0;34m\u001b[0m\n\u001b[1;32m      1\u001b[0m \u001b[0;31m# load('RteArchive-jtafla-Rte27-04-05-00:01to23:59')\u001b[0m\u001b[0;34m\u001b[0m\u001b[0;34m\u001b[0m\u001b[0;34m\u001b[0m\u001b[0m\n\u001b[1;32m      2\u001b[0m \u001b[0;34m\u001b[0m\u001b[0m\n\u001b[0;32m----> 3\u001b[0;31m \u001b[0mdf\u001b[0m\u001b[0;34m.\u001b[0m\u001b[0mhead\u001b[0m\u001b[0;34m(\u001b[0m\u001b[0;34m)\u001b[0m\u001b[0;34m\u001b[0m\u001b[0;34m\u001b[0m\u001b[0m\n\u001b[0m\u001b[1;32m      4\u001b[0m \u001b[0;31m# df['stop'].unique()\u001b[0m\u001b[0;34m\u001b[0m\u001b[0;34m\u001b[0m\u001b[0;34m\u001b[0m\u001b[0m\n\u001b[1;32m      5\u001b[0m \u001b[0;31m# dfStop = df[(df.stop == '1194')]\u001b[0m\u001b[0;34m\u001b[0m\u001b[0;34m\u001b[0m\u001b[0;34m\u001b[0m\u001b[0m\n",
      "\u001b[0;31mNameError\u001b[0m: name 'df' is not defined"
     ]
    }
   ],
   "source": [
    "# load('RteArchive-jtafla-Rte27-04-05-00:01to23:59')\n",
    "\n",
    "df.head()\n",
    "# df['stop'].unique()\n",
    "# dfStop = df[(df.stop == '1194')]\n",
    "miss = df[(df.actual_arrival == 'MISSING-TIME')]\n",
    "miss['stop'].unique()\n",
    "# grouped = dfStop.groupby('trip_id')\n",
    "# grouped.count()"
   ]
  },
  {
   "cell_type": "code",
   "execution_count": null,
   "metadata": {},
   "outputs": [],
   "source": []
  }
 ],
 "metadata": {
  "kernelspec": {
   "display_name": "Python 3",
   "language": "python",
   "name": "python3"
  },
  "language_info": {
   "codemirror_mode": {
    "name": "ipython",
    "version": 3
   },
   "file_extension": ".py",
   "mimetype": "text/x-python",
   "name": "python",
   "nbconvert_exporter": "python",
   "pygments_lexer": "ipython3",
   "version": "3.6.7"
  }
 },
 "nbformat": 4,
 "nbformat_minor": 2
}
