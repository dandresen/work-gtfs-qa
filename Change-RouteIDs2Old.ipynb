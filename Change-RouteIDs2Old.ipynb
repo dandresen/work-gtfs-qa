{
 "cells": [
  {
   "cell_type": "markdown",
   "metadata": {},
   "source": [
    "### Script to use when an agency changes their route_ids\n",
    "* Requires the old routes.txt & trips.txt, as well as the new routes.txt & trips.txt\n",
    "* It replaces existing routes with the previous route_ids and keeps the existing route_id if a route is new\n",
    "* The results are a routes_NEW.txt and trips_NEW.txt "
   ]
  },
  {
   "cell_type": "code",
   "execution_count": 1,
   "metadata": {},
   "outputs": [],
   "source": [
    "import pandas as pd\n",
    "import numpy as np"
   ]
  },
  {
   "cell_type": "code",
   "execution_count": 54,
   "metadata": {},
   "outputs": [],
   "source": [
    "# old update (I want these route_ids)\n",
    "filepath = r'bbb'\n",
    "# new update (These route_ids will be replaced)\n",
    "filepathBad = r'bbb-new'\n",
    "\n",
    "# load old file\n",
    "def load(fName): \n",
    "    f = filepath + \"/\" + \"{}.txt\".format(fName)\n",
    "    return pd.read_csv(f)\n",
    "\n",
    "# load new (bad) file\n",
    "def loadBad(fName): \n",
    "    f = filepathBad + \"/\" + \"{}.txt\".format(fName)\n",
    "    return pd.read_csv(f)\n",
    "\n",
    "# save file\n",
    "def save(dfName,fName):\n",
    "    df = dfName\n",
    "    df.to_csv(filepathBad + '/' + \"{}_FIXED.txt\".format(fName), sep =',', index=False)\n",
    "    return print(\"Saved {}_FIXED.txt to {}\".format(fName,filepathBad))\n",
    "\n",
    "# load good (old) GTFS files\n",
    "routesOld = load('routes')\n",
    "tripsOld = load('trips')\n",
    "\n",
    "# load new (bad) GTFS files\n",
    "routesNew = loadBad('routes')\n",
    "tripsNew = loadBad('trips')"
   ]
  },
  {
   "cell_type": "code",
   "execution_count": 55,
   "metadata": {},
   "outputs": [
    {
     "name": "stdout",
     "output_type": "stream",
     "text": [
      "Saved routes_FIXED.txt to bbb-new\n"
     ]
    }
   ],
   "source": [
    "# merge the two routes dataframes together based on route_short_name\n",
    "newRouteMerge = pd.merge(routesNew,routesOld,on=['route_short_name'],how='left')\n",
    "# add the ids for the new routes to the field with the old routes\n",
    "newRouteMerge.loc[newMerge['route_id_y'].isna(), 'route_id_y'] = newMerge['route_id_x']\n",
    "# write the new routes.txt file\n",
    "keepRoutes = pd.DataFrame({\n",
    "    'route_id' : newMerge.route_id_y.astype('int32'),\n",
    "    'agency_id' : routesNew.agency_id,\n",
    "    'route_short_name' : routesNew.route_short_name,\n",
    "    'route_long_name': routesNew.route_long_name,\n",
    "    'route_desc': routesNew.route_desc,\n",
    "    'route_type': routesNew.route_type,\n",
    "    'route_url': routesNew.route_url,\n",
    "    'route_color': routesNew.route_color,\n",
    "    'route_text_color': routesNew.route_text_color \n",
    "})\n",
    "# save new .txt file\n",
    "save(keepRoutes,'routes')\n",
    "\n",
    "\n"
   ]
  },
  {
   "cell_type": "code",
   "execution_count": 56,
   "metadata": {},
   "outputs": [
    {
     "name": "stdout",
     "output_type": "stream",
     "text": [
      "Saved trips_FIXED.txt to bbb-new\n"
     ]
    }
   ],
   "source": [
    "# merge the neweRouteMerge df with tripNew based on route_id from new data\n",
    "newTripMerge = pd.merge(tripsNew,newMerge,left_on=['route_id'],right_on=['route_id_x'],how='outer')\n",
    "# write new trips.txt file\n",
    "keepTrips = pd.DataFrame({    \n",
    "    'route_id': newTripMerge.route_id_y.astype('int32'), \n",
    "    'service_id': tripsNew.service_id,\n",
    "    'trip_id': tripsNew.trip_id,\n",
    "    'trip_headsign': tripsNew.trip_headsign,\n",
    "    'trip_short_name': tripsNew.trip_short_name,\n",
    "    'direction_id': tripsNew.direction_id,\n",
    "    'block_id': tripsNew.block_id,\n",
    "    'shape_id': tripsNew.shape_id,\n",
    "    'wheelchair_accessible': tripsNew.wheelchair_accessible,\n",
    "    'bikes_allowed': tripsNew.bikes_allowed    \n",
    "})\n",
    "# save new .txt file\n",
    "save(keepTrips,'trips')\n"
   ]
  }
 ],
 "metadata": {
  "kernelspec": {
   "display_name": "Python 2",
   "language": "python",
   "name": "python2"
  },
  "language_info": {
   "codemirror_mode": {
    "name": "ipython",
    "version": 3
   },
   "file_extension": ".py",
   "mimetype": "text/x-python",
   "name": "python",
   "nbconvert_exporter": "python",
   "pygments_lexer": "ipython3",
   "version": "3.6.7"
  }
 },
 "nbformat": 4,
 "nbformat_minor": 2
}
