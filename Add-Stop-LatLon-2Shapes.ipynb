{
 "cells": [
  {
   "cell_type": "code",
   "execution_count": null,
   "metadata": {},
   "outputs": [],
   "source": [
    "import pandas as pd\n",
    "import numpy as np\n",
    "# import geopy\n",
    "# from geopy import distance\n",
    "import matplotlib.pyplot as plt"
   ]
  },
  {
   "cell_type": "code",
   "execution_count": null,
   "metadata": {},
   "outputs": [],
   "source": [
    "\n",
    "filepath = r'bbb'\n",
    "\n",
    "# load file\n",
    "def load(fName): \n",
    "    f = filepath + \"/\" + \"{}.txt\".format(fName)\n",
    "    return pd.read_csv(f)\n",
    "\n",
    "# save file\n",
    "def save(dfName,fName):\n",
    "    df = dfName\n",
    "    df.to_csv(filepath + '/' + \"{}\".format(fName), sep =',', index=False)\n",
    "    return print(\"Saved {} to {}\".format(fName,filepath))\n",
    "\n",
    "# load GTFS files\n",
    "trips = load('trips')\n",
    "stops = load('stops')\n",
    "stop_times = load('stop_times')\n",
    "shapes = load('shapes')\n",
    "\n"
   ]
  },
  {
   "cell_type": "markdown",
   "metadata": {},
   "source": [
    "### Goal:\n",
    "* Write a pre-processing script that can ingest GTFS and that will \"inject\" the stop lat and lon to the shapes lat and lon.\n",
    "\n",
    "### Approach:\n",
    "* Write logic for a test case using a single trip and route. \n",
    "* Will need to match up the shape_id from shapes.txt with shape_id from trips.txt. Will need to get stops from the stop_times.txt and the lat lon\n",
    "from the stops.txt. \n",
    "\n",
    "Loop through the shapes.txt and find where the lat and lon of the stop is in between shape ponts and inject in there? Then will need to reorder\n",
    "the sequence. -Apply will be better than loop?\n",
    "* created some 'dummy' cols, so go with using apply\n",
    "\n",
    "Use the distance from stop to the shape point in order to determine where the stop lat lon should be injected into the shapes.txt.\n",
    "\n",
    "* Look for the shortest distance for the stop to all of the shape points. Once found, inject the stop coords- replace the orig stop point with the lat lon of stop. \n",
    "    - using cdist from scipy- euclidean \n",
    "    - using difference of distance between rows to determine what lat lon should be updated\n",
    "        - it's working okay... got an extra shapepoint in the example\n",
    "        - the location is a corner where some funky things can happen\n",
    "* Using np methods because they are fast"
   ]
  },
  {
   "cell_type": "code",
   "execution_count": null,
   "metadata": {},
   "outputs": [],
   "source": [
    "# get one trip to test \n",
    "onetrip = trips[(trips.trip_id == 778854)]\n",
    "oneshape = shapes[(shapes.shape_id == 23890)]\n",
    "stopTimeStops = stop_times['stop_id'][(stop_times.trip_id == 778854)].tolist()\n",
    "neededStops = stops[stops['stop_id'].isin(stopTimeStops)]\n",
    "lstlat = neededStops['stop_lat'].tolist()\n",
    "lstlon = neededStops['stop_lon'].tolist()\n",
    "result =  zip(lstlat,lstlon)\n",
    "stopcoordslst = list(result)\n",
    "len(stopcoordslst)"
   ]
  },
  {
   "cell_type": "code",
   "execution_count": 137,
   "metadata": {},
   "outputs": [
    {
     "data": {
      "image/png": "[encoded data removed]",
      "text/plain": [
       "<Figure size 1440x504 with 1 Axes>"
      ]
     },
     "metadata": {
      "needs_background": "light"
     },
     "output_type": "display_data"
    }
   ],
   "source": [
    "'''MAIN WORK HERE'''\n",
    "from scipy.spatial.distance import cdist\n",
    "\n",
    "# turn stops coords to list \n",
    "stpCoord = list(stopcoordslst)\n",
    "\n",
    "# zip these two col together to create shapes lat long \n",
    "shplat = oneshape['shape_pt_lat'].tolist()\n",
    "shplon = oneshape['shape_pt_lon'].tolist()\n",
    "shpCoord = list(zip(shplat,shplon))\n",
    "\n",
    "\n",
    "\n",
    "# turn to numpy arrary\n",
    "shpCoord = np.array(shpCoord)\n",
    "stpCoord = np.array(stpCoord)\n",
    "\n",
    "\n",
    "out_df_badIndex = pd.DataFrame({\n",
    "    'shape_pt_lat' : oneshape.shape_pt_lat,\n",
    "    'shape_pt_lon' : oneshape.shape_pt_lon,\n",
    "    'shape_pt_sequence' : oneshape.shape_pt_sequence,\n",
    "    'dist_to_stp': cdist(shpCoord,stpCoord,'euclidean').min(axis=1)\n",
    "\n",
    "})\n",
    "\n",
    "\n",
    "# find differene\n",
    "out_df_badIndex['diff'] = out_df_badIndex['dist_to_stp'] - out_df_badIndex['dist_to_stp'].shift()\n",
    "# create a dummy column marking where the diff is negative\n",
    "out_df_badIndex['dummy'] = np.where(out_df_badIndex['diff'] < 0,'1','0')\n",
    "# keep where diff == NaN- this is first shape point and 'should' begin at a stop OR where dummy == 1 and the the next value is == 0\n",
    "out_df_badIndex['keep'] = np.where(np.logical_or(out_df_badIndex['diff'].isna(), \\\n",
    "                                                 np.logical_and(out_df_badIndex['dummy'] == '1', out_df_badIndex['dummy'].shift(-1) == '0')),'keep','throw')\n",
    "\n",
    "\n",
    "out_df_badIndex.head(25)\n",
    "\n",
    "\n",
    "# test points query\n",
    "keepPnts = out_df_badIndex[(out_df_badIndex['keep'] == 'keep')]\n",
    "# save(keepPnts,'keepPnts.csv')\n",
    "\n",
    "# plot the distance from the stop... the 'valleys' are where the stops are\n",
    "plt.figure()\n",
    "plt.ylabel(\"Distance From Stop\").set_color(\"White\")\n",
    "out_df_badIndex['dist_to_stp'].plot(kind='bar',figsize=(20,7)).axes.get_xaxis().set_visible(False)\n"
   ]
  },
  {
   "cell_type": "code",
   "execution_count": 138,
   "metadata": {},
   "outputs": [
    {
     "data": {
      "text/plain": [
       "<matplotlib.axes._subplots.AxesSubplot at 0x7f675ba194e0>"
      ]
     },
     "execution_count": 138,
     "metadata": {},
     "output_type": "execute_result"
    },
    {
     "data": {
      "image/png": "[encoded data removed]",
      "text/plain": [
       "<Figure size 1080x1080 with 1 Axes>"
      ]
     },
     "metadata": {
      "needs_background": "light"
     },
     "output_type": "display_data"
    }
   ],
   "source": [
    "# plot the stops (red) and the shape points the script returns (blue)\n",
    "import geopandas as gpd\n",
    "\n",
    "# testPointsdf = gpd.GeoDataFrame(oneshape, geometry=gpd.points_from_xy(oneshape.shape_pt_lon,oneshape.shape_pt_lat))\n",
    "testPointsdf = gpd.GeoDataFrame(keepPnts, geometry=gpd.points_from_xy(keepPnts.shape_pt_lon,keepPnts.shape_pt_lat))\n",
    "\n",
    "testStopdf = gpd.GeoDataFrame(neededStops, geometry=gpd.points_from_xy(neededStops.stop_lon,neededStops.stop_lat))\n",
    "\n",
    "# plot shape points and stops... see an extra shape point near southern part of route\n",
    "stopsTest = testStopdf.plot(figsize=(15,15),color='red',)\n",
    "testPointsdf.plot(ax=stopsTest, color='blue',marker='X')"
   ]
  },
  {
   "cell_type": "code",
   "execution_count": null,
   "metadata": {},
   "outputs": [],
   "source": [
    "'''\n",
    "OLDER LOGIC BELOW... still may use some of it.\n",
    "\n",
    "Use example stop id 1389 'BARRINGTON SB & TEXAS NS'on route 2993 and trip 778854\n",
    "\n",
    "Use the distance.geodesic function from geopy\n",
    "\n",
    "Inject the stop coords into the shape.txt \n",
    "\n",
    "'''\n",
    "\n",
    "\n",
    "\n",
    "# def calc_distance(x):\n",
    "#     stop_coords = [lat,lon for lat,lon in stopcoordslst]\n",
    "#     shape_coords = (x.shape_pt_lat, x.shape_pt_lon)\n",
    "#     return geopy.distance.geodesic(stop_coords, shape_coords ).m\n",
    "# oneshape.apply(calc_distance, axis = 1)\n",
    "\n",
    "\n",
    "# create df with the shape lat, lon, dist to stop, and pt seq\n",
    "# out_df_badIndex = pd.DataFrame({\n",
    "#     'shape_pt_lat' : oneshape.shape_pt_lat,\n",
    "#     'shape_pt_lon' : oneshape.shape_pt_lon,\n",
    "#     'shape_pt_sequence' : oneshape.shape_pt_sequence,\n",
    "#     'dist_to_stp': oneshape.apply(calc_distance, axis = 1) # output of calc_distance function\n",
    "# })\n",
    "\n",
    "\n",
    "# # re-index here b/c can't access the original index??\n",
    "# # is actually kind of nice b/c will be able to use iloc later on to get row, not index\n",
    "# # also, indexing dosen't matter as the shape_pt_sequence is the main col to keep in order\n",
    "# out_df = out_df_badIndex.reset_index(drop=True)\n",
    "# # grab to the index id of the df for the min value in the dist_to_stop column\n",
    "# row_to_update = out_df['dist_to_stp'].idxmin()\n",
    "# # grab the index id for the stop before the min value, this is for pt_seq order\n",
    "# minus_one_row = row_to_update - 1\n",
    "# # this is the point seq for the new shape point\n",
    "# new_pt_seq = out_df.iloc[[minus_one_row]]['shape_pt_sequence'].values[0] + 1\n",
    "# row_to_update\n"
   ]
  },
  {
   "cell_type": "markdown",
   "metadata": {},
   "source": [
    "#### Below is a function to insert rows, but with \"dummy\" columns, probably won't need this.... keeping it in notebook just in case. "
   ]
  },
  {
   "cell_type": "code",
   "execution_count": null,
   "metadata": {},
   "outputs": [],
   "source": [
    "\n",
    "# # Function (I found and modified) to insert row in the dataframe 'gracefully'\n",
    "# def Insert_row_(row_number, df, row_value): \n",
    "#     df1 = df[0:row_number] \n",
    "#     df2 = df[row_number:] \n",
    "#     df1.loc[row_number]=row_value \n",
    "#     df_result = pd.concat([df1, df2]) \n",
    "#     df_result.index = [*range(df_result.shape[0])] \n",
    "#     return df_result \n",
    "\n",
    "# # row to update\n",
    "# row_number = row_to_update\n",
    "# # the pt seq to update\n",
    "# new_shape_pt_seq = new_pt_seq\n",
    "# # what will be 'injected'- stop lat lon here\n",
    "# row_value = [34.047224, -118.459131, 99999, 0] \n",
    "  \n",
    "# if row_number > out_df.index.max()+1: \n",
    "#     print(\"Invalid row_number\") \n",
    "# else: \n",
    "#     # here, create a df and run the insert_row function, b/c that function does not override the existing row, need to drop\n",
    "#     # the original shape_point. This can be changed later, but if will work for now. Think of it as swapping\n",
    "#     # out the nearest shape point in the sequence with the lat lon of the stop. \n",
    "#     df3 = pd.DataFrame(Insert_row_(row_number, out_df, row_value)).drop_duplicates(subset='shape_pt_sequence',keep='first',inplace=False)\n",
    "    \n",
    "    \n",
    "# df3[(df3['dist_to_stp'] < 200)]\n",
    "\n",
    "    \n",
    "# below is the final result, index 97 is now the lat lon of the stop lat lon- not worried about the warning "
   ]
  }
 ],
 "metadata": {
  "kernelspec": {
   "display_name": "Python 2",
   "language": "python",
   "name": "python2"
  },
  "language_info": {
   "codemirror_mode": {
    "name": "ipython",
    "version": 3
   },
   "file_extension": ".py",
   "mimetype": "text/x-python",
   "name": "python",
   "nbconvert_exporter": "python",
   "pygments_lexer": "ipython3",
   "version": "3.6.7"
  }
 },
 "nbformat": 4,
 "nbformat_minor": 2
}
